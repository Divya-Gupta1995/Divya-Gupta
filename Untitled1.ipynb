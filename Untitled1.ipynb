{
 "cells": [
  {
   "cell_type": "code",
   "execution_count": null,
   "id": "a482891c",
   "metadata": {},
   "outputs": [],
   "source": [
    "# Given a string str, your task is to write a program which takes a string str as its only input \n",
    "# and returns an integer denoting the no of palindromic subsequence (need not necessarily be distinct) \n",
    "# which could be formed from the string str."
   ]
  },
  {
   "cell_type": "code",
   "execution_count": 2,
   "id": "5dac74b8",
   "metadata": {},
   "outputs": [
    {
     "name": "stdout",
     "output_type": "stream",
     "text": [
      "abcd\n",
      "Total palindromic subsequence are :  4\n"
     ]
    }
   ],
   "source": [
    "def countPS(str):\n",
    " \n",
    "    N = len(str)\n",
    " \n",
    "    # Create a 2D array to store the count\n",
    "    # of palindromic subsequence\n",
    "    cps = [[0 for i in range(N + 2)]for j in range(N + 2)]\n",
    " \n",
    "    # palindromic subsequence of length 1\n",
    "    for i in range(N):\n",
    "        cps[i][i] = 1\n",
    " \n",
    "    # check subsequence of length L\n",
    "    # is palindrome or not\n",
    "    for L in range(2, N + 1):\n",
    " \n",
    "        for i in range(N):\n",
    "            k = L + i - 1\n",
    "            if (k < N):\n",
    "                if (str[i] == str[k]):\n",
    "                    cps[i][k] = (cps[i][k - 1] +\n",
    "                                 cps[i + 1][k] + 1)\n",
    "                else:\n",
    "                    cps[i][k] = (cps[i][k - 1] +\n",
    "                                 cps[i + 1][k] -\n",
    "                                 cps[i + 1][k - 1])\n",
    " \n",
    "    # return total palindromic subsequence\n",
    "    return cps[0][N - 1]\n",
    " \n",
    " \n",
    "# Driver program\n",
    "str = input()\n",
    "print(\"Total palindromic subsequence are : \", countPS(str))"
   ]
  },
  {
   "cell_type": "code",
   "execution_count": null,
   "id": "36b7d620",
   "metadata": {},
   "outputs": [],
   "source": []
  },
  {
   "cell_type": "code",
   "execution_count": null,
   "id": "24f0b39e",
   "metadata": {},
   "outputs": [],
   "source": []
  }
 ],
 "metadata": {
  "kernelspec": {
   "display_name": "Python 3 (ipykernel)",
   "language": "python",
   "name": "python3"
  },
  "language_info": {
   "codemirror_mode": {
    "name": "ipython",
    "version": 3
   },
   "file_extension": ".py",
   "mimetype": "text/x-python",
   "name": "python",
   "nbconvert_exporter": "python",
   "pygments_lexer": "ipython3",
   "version": "3.9.12"
  }
 },
 "nbformat": 4,
 "nbformat_minor": 5
}
