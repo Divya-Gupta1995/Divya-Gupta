{
 "cells": [
  {
   "cell_type": "markdown",
   "id": "ca585cb9",
   "metadata": {},
   "source": [
    "# FINAL ASSESSMENT PYTHON"
   ]
  },
  {
   "cell_type": "markdown",
   "id": "06d94d5f",
   "metadata": {},
   "source": [
    "QUESTION 1: You will be given a list. You have to print a list whose 1st element should be largest\n",
    " and 2nd should be the smallest then the 3rd should be 2nd largest and 4th should be 2nd smallest and so on.\n",
    "\n",
    "Input Format:\n",
    "\n",
    "The first line will have space-separated elements of the list.\n",
    "\n",
    "Output Format:\n",
    "\n",
    "Print the required list.\n",
    "Sample Input 0:\n",
    "1 2 3 4 5 6\n",
    "\n",
    "Sample Output 0:\n",
    "6 1 5 2 4 3\n"
   ]
  },
  {
   "cell_type": "code",
   "execution_count": 1,
   "id": "af5c9cb5",
   "metadata": {},
   "outputs": [
    {
     "name": "stdout",
     "output_type": "stream",
     "text": [
      "1 2 3 4 5 6\n",
      "final list: [6, 1, 5, 2, 4, 3]\n"
     ]
    }
   ],
   "source": [
    "def integer(x):\n",
    "    return int(x)\n",
    "\n",
    "lst=input().split(\" \")\n",
    "int_lst=map(integer,lst)\n",
    "lst=list(int_lst)\n",
    "\n",
    "required_lst=[]\n",
    "while len(lst)>0:\n",
    "    largest=max(lst)\n",
    "    lst.remove(largest)\n",
    "    required_lst.append(largest)\n",
    "    smallest=min(lst)\n",
    "    required_lst.append(smallest)\n",
    "    lst.remove(smallest)\n",
    "    \n",
    "print(\"final list:\",required_lst)"
   ]
  },
  {
   "cell_type": "code",
   "execution_count": null,
   "id": "8e33fbeb",
   "metadata": {},
   "outputs": [],
   "source": []
  }
 ],
 "metadata": {
  "kernelspec": {
   "display_name": "Python 3 (ipykernel)",
   "language": "python",
   "name": "python3"
  },
  "language_info": {
   "codemirror_mode": {
    "name": "ipython",
    "version": 3
   },
   "file_extension": ".py",
   "mimetype": "text/x-python",
   "name": "python",
   "nbconvert_exporter": "python",
   "pygments_lexer": "ipython3",
   "version": "3.9.12"
  }
 },
 "nbformat": 4,
 "nbformat_minor": 5
}
