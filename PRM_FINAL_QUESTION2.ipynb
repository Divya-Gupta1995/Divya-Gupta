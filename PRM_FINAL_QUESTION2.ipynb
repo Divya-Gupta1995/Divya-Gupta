{
 "cells": [
  {
   "cell_type": "markdown",
   "id": "e8aa3a2f",
   "metadata": {},
   "source": [
    "# FINAL ASSESSMENT QUESTION 2"
   ]
  },
  {
   "cell_type": "markdown",
   "id": "27599628",
   "metadata": {},
   "source": [
    "QUESTION - 2\n",
    "Find nth fibonacci number. If it starts with 0,1,1,2.....\n",
    "Also, Print Incorrect Input if n is less than or equal to 0.\n",
    "\n",
    "Input Format:\n",
    "Call the function with n\n",
    "Output Format:\n",
    "Print the nth fibonacci number\n",
    "\n",
    "Sample Input 0:\n",
    "4\n",
    "Sample Output 0:\n",
    "2\n",
    "\n",
    "Sample Input 1:\n",
    "0\n",
    "Sample Output 1:\n",
    "Incorrect input"
   ]
  },
  {
   "cell_type": "code",
   "execution_count": 10,
   "id": "755202bf",
   "metadata": {},
   "outputs": [
    {
     "name": "stdout",
     "output_type": "stream",
     "text": [
      "4\n",
      "Nth Fibonacci number is: 2\n"
     ]
    }
   ],
   "source": [
    "def n_fibo(n):\n",
    "    fibo=[0,1]\n",
    "    for i in range(n-2):\n",
    "        term= fibo[i]+fibo[i+1]\n",
    "        fibo.append(term)\n",
    "    return fibo[-1]\n",
    "\n",
    "a= int(input())\n",
    "if a<=0:\n",
    "    print(\"INCORRECT INPUT\")\n",
    "else:\n",
    "    nth_term= n_fibo(a)\n",
    "    print(\"Nth Fibonacci number is:\",nth_term)\n",
    "        "
   ]
  },
  {
   "cell_type": "code",
   "execution_count": null,
   "id": "2083796e",
   "metadata": {},
   "outputs": [],
   "source": []
  },
  {
   "cell_type": "code",
   "execution_count": null,
   "id": "3252d307",
   "metadata": {},
   "outputs": [],
   "source": []
  }
 ],
 "metadata": {
  "kernelspec": {
   "display_name": "Python 3 (ipykernel)",
   "language": "python",
   "name": "python3"
  },
  "language_info": {
   "codemirror_mode": {
    "name": "ipython",
    "version": 3
   },
   "file_extension": ".py",
   "mimetype": "text/x-python",
   "name": "python",
   "nbconvert_exporter": "python",
   "pygments_lexer": "ipython3",
   "version": "3.9.12"
  }
 },
 "nbformat": 4,
 "nbformat_minor": 5
}
