{
 "cells": [
  {
   "cell_type": "code",
   "execution_count": 17,
   "id": "85b582f8",
   "metadata": {},
   "outputs": [],
   "source": [
    "class stack():\n",
    "    def __init__(self,size):\n",
    "        self.length=0\n",
    "        self.size=size\n",
    "        self.stacks=[]\n",
    "\n",
    "    def push(self,value):\n",
    "      \n",
    "        if self.is_full():\n",
    "            print(\"stack is Full\")\n",
    "        else:\n",
    "            self.stacks.append(value)\n",
    "            self.length+=1\n",
    "                \n",
    "\n",
    "    def is_full(self):\n",
    "        if self.length==self.size:\n",
    "            return True\n",
    "        else:\n",
    "            return False\n",
    "\n",
    "    def pop(self):\n",
    "      \n",
    "        if self.is_Empty():\n",
    "            print(\"stack is Empty\")\n",
    "        else:\n",
    "            pop=self.stacks.pop()\n",
    "            self.length-=1\n",
    "            return pop\n",
    "          \n",
    "\n",
    "    def is_Empty(self):\n",
    "        if self.length==0:\n",
    "            return True\n",
    "        else:\n",
    "            return False\n",
    "\n",
    "    def display(self):\n",
    "        print self.stacks\n",
    "        \n",
    "        \n",
    "    \n",
    "    "
   ]
  },
  {
   "cell_type": "code",
   "execution_count": 7,
   "id": "6faa90e0",
   "metadata": {},
   "outputs": [
    {
     "name": "stdout",
     "output_type": "stream",
     "text": [
      "Enter the length of array4\n",
      "45\n",
      "4\n",
      "3\n",
      "3\n",
      "[45, 4, 3, 3]\n",
      "Enter the Sum52\n",
      "0\n"
     ]
    }
   ],
   "source": [
    "# Q1. Write a program to find all pairs of an integer array whose sum is equal to a given number?\n",
    "n=int(input('Enter the length of array'))\n",
    "arr=[int(input()) for i in range(n)]\n",
    "\n",
    "print(arr)\n",
    "sum=int(input(\"Enter the Sum\"))\n",
    "count=0\n",
    "lst=[(arr[i],arr[j]) for i in range(n) for j in range(i+1,n) if arr[i]+arr[j]==sum]\n",
    "print(len(lst))"
   ]
  },
  {
   "cell_type": "code",
   "execution_count": 1,
   "id": "2412f9bc",
   "metadata": {},
   "outputs": [
    {
     "name": "stdout",
     "output_type": "stream",
     "text": [
      "Enter the length of array5\n",
      "2\n",
      "4\n",
      "5\n",
      "5\n",
      "8\n",
      "[2, 4, 5, 5, 8]\n",
      "[8, 5, 5, 4, 2]\n"
     ]
    }
   ],
   "source": [
    "# Q2. Write a program to reverse an array in place? In place means you cannot create a new array.\n",
    "# You have to update the original array.\n",
    "n=int(input('Enter the length of array'))\n",
    "arr=[int(input(\"Enter the Element:\")) for i in range(n)]\n",
    "\n",
    "print(arr)\n",
    "\n",
    "arr=[arr[i] for i in range(n-1,-1,-1)]\n",
    "print(arr)"
   ]
  },
  {
   "cell_type": "code",
   "execution_count": null,
   "id": "805f1d25",
   "metadata": {},
   "outputs": [],
   "source": [
    "# Q3. Write a program to check if two strings are a rotation of each other?\n",
    "str1=input(\"String1:\")\n",
    "str2=input(\"String2:\")\n",
    "str=str1+str1\n",
    "\n",
    "if str2 in str:\n",
    "    print(\"Yes given strings are rotation of each other.\")\n",
    "else:\n",
    "    print(\"No\")"
   ]
  },
  {
   "cell_type": "code",
   "execution_count": null,
   "id": "d2c6cc54",
   "metadata": {},
   "outputs": [],
   "source": [
    "# Q4. Write a program to print the first non-repeated character from a string?\n",
    "from collections import Counter\n",
    "\n",
    "\n",
    "str=input()\n",
    "count=Counter(str)\n",
    "for k,v in count.items():\n",
    "    if v==1:\n",
    "        print(k)\n",
    "        break"
   ]
  },
  {
   "cell_type": "code",
   "execution_count": 4,
   "id": "87cb95bd",
   "metadata": {},
   "outputs": [
    {
     "name": "stdout",
     "output_type": "stream",
     "text": [
      "Enter the number of Disks4\n",
      "Move 1 Disk from initial to transit\n",
      "Move 2 Disk from  initial to final\n",
      "Move 1 Disk from initial to transit\n",
      "Move 3 Disk from  initial to transit\n",
      "Move 1 Disk from initial to transit\n",
      "Move 2 Disk from  initial to final\n",
      "Move 1 Disk from initial to transit\n",
      "Move 4 Disk from  initial to final\n",
      "Move 1 Disk from initial to transit\n",
      "Move 2 Disk from  initial to final\n",
      "Move 1 Disk from initial to transit\n",
      "Move 3 Disk from  initial to transit\n",
      "Move 1 Disk from initial to transit\n",
      "Move 2 Disk from  initial to final\n",
      "Move 1 Disk from initial to transit\n"
     ]
    }
   ],
   "source": [
    "# Q5. Read about the Tower of Hanoi algorithm. Write a program to implement it.\n",
    "def tower_of_hanoi(n,start,aux,end):\n",
    "  \n",
    "    if n==1:\n",
    "        print(\"Move 1 Disk from\",start,\"to\",end)\n",
    "        return \n",
    "    tower_of_hanoi(n-1,start,end,aux)\n",
    "    print(\"Move\",n,\"Disk from \",start,\"to\",end)\n",
    "    tower_of_hanoi(n-1,start,end,aux)\n",
    "    \n",
    "if __name__==\"__main__\":\n",
    "    n=int(input(\"Enter the number of Disks\"))\n",
    "    tower_of_hanoi(n,'initial','transit','final')\n",
    "\n",
    "\n",
    "    "
   ]
  },
  {
   "cell_type": "code",
   "execution_count": 6,
   "id": "682f3c1f",
   "metadata": {},
   "outputs": [
    {
     "name": "stdout",
     "output_type": "stream",
     "text": [
      "Enter a postfix expression, where all the values are separated by space. for e.g. '2 3 1 * + 9 -'4 5 +\n",
      "Result after evaluation of given postfix expression to prefix is: ['+', 4, 5]\n",
      "<class 'str'>\n"
     ]
    }
   ],
   "source": [
    "# Q6. Read about infix, prefix, and postfix expressions. Write a program to convert postfix to prefix expression.\n",
    "\n",
    "import operator\n",
    "\n",
    "expression=input(\"Enter a postfix expression, where all the values are separated by space. for e.g. '2 3 1 * + 9 -'\").split(\" \")\n",
    "\n",
    "stack=[]\n",
    "operators={\n",
    "    \"+\": operator.add,\n",
    "    \"-\": operator.sub,\n",
    "    \"*\": operator.mul,\n",
    "    \"/\": operator.truediv}\n",
    "for i in expression:\n",
    "    if (i!='+' and i!='-' and i!='*' and i!='/' and i!='//' and i!='**'):\n",
    "        i=int(i)\n",
    "        stack.append(i)\n",
    "    else:\n",
    "        a=stack.pop()\n",
    "        b=stack.pop()\n",
    "        stack.append(i)\n",
    "        stack.append(b)\n",
    "        stack.append(a)\n",
    "        \n",
    "\n",
    "print(\"Result after evaluation of given postfix expression to prefix is:\",stack)\n",
    "\n"
   ]
  },
  {
   "cell_type": "code",
   "execution_count": 8,
   "id": "4f99c27b",
   "metadata": {},
   "outputs": [
    {
     "name": "stdout",
     "output_type": "stream",
     "text": [
      "Write the prefix expression4\n",
      "4\n"
     ]
    }
   ],
   "source": [
    "# Q7. Write a program to convert prefix expression to infix expression.\n",
    "def pretoinfix(prefix):\n",
    "    stack = []\n",
    "    \n",
    "    i = len(prefix) - 1\n",
    "    while i >= 0:\n",
    "        if not operator(prefix[i]):\n",
    "            stack.append(prefix[i])\n",
    "            i -= 1\n",
    "        else:\n",
    "            str = \"(\" + stack.pop() + prefix[i] + stack.pop() + \")\"\n",
    "            stack.append(str)\n",
    "            i -= 1\n",
    "     \n",
    "    return stack.pop()\n",
    " \n",
    "def operator(o):\n",
    "    if o == \"*\" or o == \"+\" or o == \"-\" or o == \"/\" or o == \"^\" or o == \"(\" or o == \")\":\n",
    "        return True\n",
    "    else:\n",
    "        return False\n",
    " \n",
    "if __name__==\"__main__\":\n",
    "    expression=input(\"Write the prefix expression\")\n",
    "    print(pretoinfix(expression))"
   ]
  },
  {
   "cell_type": "code",
   "execution_count": 11,
   "id": "a1e3a463",
   "metadata": {},
   "outputs": [
    {
     "name": "stdout",
     "output_type": "stream",
     "text": [
      "String: _)_)__P{O+_+_{\n",
      "Not Balanced\n"
     ]
    }
   ],
   "source": [
    "# Q8. Write a program to check if all the brackets are closed in a given code snippet.\n",
    "class stack():\n",
    "    def __init__(self,strings):\n",
    "        self.length=0\n",
    "        self.size=len(strings)\n",
    "        self.stacks=[]\n",
    "        self.strings=strings\n",
    "        self.dic={\"(\":\")\",\"{\":\"}\",\"[\":\"]\"}\n",
    "\n",
    "    def push(self):\n",
    "        if self.is_full():\n",
    "            print(\"stack is Full\")\n",
    "        else:\n",
    "            for i in self.strings:\n",
    "                if i in [\"(\",\"[\",\"{\",\")\",\"]\",\"}\"]:\n",
    "                    self.stacks.append(i)\n",
    "                    self.length+=1\n",
    "\n",
    "\n",
    "    def is_full(self):\n",
    "        if self.length==self.size:\n",
    "            return True\n",
    "        else:\n",
    "            return False\n",
    "\n",
    "    def pop(self):\n",
    "        cntn=1\n",
    "        while cntn==1:\n",
    "            if self.is_Empty():\n",
    "                print(\"stack is Empty\")\n",
    "                cntn=0\n",
    "            else:\n",
    "                self.stacks.pop()\n",
    "                self.length-=1\n",
    "                cntn=int(input(\"Press 1 to delete one more element\"))\n",
    "\n",
    "\n",
    "    def balance(self):\n",
    "        bal=1\n",
    "        l=len(self.stacks)\n",
    "        if l%2!=0:\n",
    "            print(\"Paranthesis not Balanced\")\n",
    "        else:\n",
    "            for i in self.stacks:\n",
    "                if i in self.dic.keys():\n",
    "                    if self.stacks[-1]==self.dic.get(i):\n",
    "                        self.stacks.pop()\n",
    "                        bal=1\n",
    "                    else:\n",
    "                        print(\"Not Balanced\")\n",
    "                        bal=0\n",
    "                        break\n",
    "\n",
    "        \n",
    "    \n",
    "    def is_Empty(self):\n",
    "        if self.length==0:\n",
    "            return True\n",
    "        else:\n",
    "            return False\n",
    "\n",
    "    def display(self):\n",
    "        print(self.stacks)\n",
    "        print(len(self.stacks))\n",
    "\n",
    "if __name__==\"__main__\":\n",
    "    str=input(\"String: \")\n",
    "    obj=stack(str)\n",
    "    obj.push()\n",
    "    obj.balance()\n"
   ]
  },
  {
   "cell_type": "code",
   "execution_count": 32,
   "id": "910f4aad",
   "metadata": {},
   "outputs": [
    {
     "name": "stdout",
     "output_type": "stream",
     "text": [
      "Enter the size of stack5\n",
      "Element2\n",
      "Element1\n",
      "Element4\n",
      "Element5\n",
      "Element6\n",
      "Original Stack:\n",
      "['2', '1', '4', '5', '6']\n",
      "Reverse of stack\n",
      "['6', '5', '4', '1', '2']\n"
     ]
    }
   ],
   "source": [
    "# Q9. Write a program to reverse a stack.\n",
    "class reverse(stack):\n",
    "    def __init__(self,n):\n",
    "        self.length=0\n",
    "        self.size=n\n",
    "        self.stacks=[]\n",
    "    def reverse(self):\n",
    "        for i in range(n//2):\n",
    "            j=self.stacks[i]\n",
    "            self.stacks[i]=self.stacks[-(i+1)]\n",
    "            self.stacks[-(i+1)]=j\n",
    "            \n",
    "    def display(self):\n",
    "        print(self.stacks)\n",
    "\n",
    "\n",
    "if __name__==\"__main__\":\n",
    "    n=int(input(\"Enter the size of stack\"))\n",
    "    stk=reverse(n)\n",
    "    for i in range(n):\n",
    "        j=input(\"Element\")\n",
    "        stk.push(j)  \n",
    "    print(\"Original Stack:\")\n",
    "    stk.display()\n",
    "    print(\"Reverse of stack:\")\n",
    "    stk.reverse()\n",
    "    stk.display()\n",
    "    \n",
    "        \n",
    "        \n",
    "        "
   ]
  },
  {
   "cell_type": "code",
   "execution_count": 58,
   "id": "c150c516",
   "metadata": {},
   "outputs": [
    {
     "name": "stdout",
     "output_type": "stream",
     "text": [
      "Enter the size of stack:5\n",
      "element:2\n",
      "element:5\n",
      "element:4\n",
      "element:5\n",
      "element:9\n",
      "[2, 5, 4, 5, 9]\n",
      "2\n"
     ]
    }
   ],
   "source": [
    "# Q10. Write a program to find the smallest number using a stack.\n",
    "\n",
    "n=int(input(\"Enter the size of stack:\"))\n",
    "stks=stack(n)\n",
    "\n",
    "for i in range(n):\n",
    "    value=int(input(\"element:\"))\n",
    "    stks.push(value)\n",
    "    lst=stks.stacks\n",
    "print(lst)\n",
    "min=float('inf')\n",
    "for i in range(len(lst)):\n",
    "    if lst[i]<min:\n",
    "        min=lst[i]\n",
    "\n",
    "print(min)\n",
    "        \n",
    "\n",
    "        \n",
    "\n",
    "\n"
   ]
  },
  {
   "cell_type": "code",
   "execution_count": null,
   "id": "5b81c36f",
   "metadata": {},
   "outputs": [],
   "source": []
  }
 ],
 "metadata": {
  "kernelspec": {
   "display_name": "Python 3 (ipykernel)",
   "language": "python",
   "name": "python3"
  },
  "language_info": {
   "codemirror_mode": {
    "name": "ipython",
    "version": 3
   },
   "file_extension": ".py",
   "mimetype": "text/x-python",
   "name": "python",
   "nbconvert_exporter": "python",
   "pygments_lexer": "ipython3",
   "version": "3.9.12"
  }
 },
 "nbformat": 4,
 "nbformat_minor": 5
}
