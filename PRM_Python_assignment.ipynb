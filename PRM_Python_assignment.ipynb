{
 "cells": [
  {
   "cell_type": "code",
   "execution_count": null,
   "id": "8eb94749",
   "metadata": {},
   "outputs": [],
   "source": [
    "# Python Candidates - Question 1\n",
    "\n",
    "# You will have a number of elements and in the next n lines element of a list. You have to create a list from the given strings. You have to sort the list based on 2nd last character of a string.\n",
    "\n",
    "# For example: given list = ['great','hello','hiyo','abc'] so your output_dictionary should be ['great', 'abc', 'hello','hiyo']\n",
    "\n",
    "# Input Format:\n",
    "\n",
    "# At first-line it will have an integer (number of elements inside a list). In the second line, it will have a string.\n",
    "\n",
    "# Output Format:\n",
    "\n",
    "# A single line containing a sorted list."
   ]
  },
  {
   "cell_type": "code",
   "execution_count": 5,
   "id": "cce31007",
   "metadata": {},
   "outputs": [
    {
     "name": "stdout",
     "output_type": "stream",
     "text": [
      "5\n",
      "ball\n",
      "cat\n",
      "dog\n",
      "elephant\n",
      "apple\n",
      "['ball', 'apple', 'cat', 'dog', 'elephant']\n"
     ]
    }
   ],
   "source": [
    "n=int(input())\n",
    "lst=[]\n",
    "for i in range(n):\n",
    "    a=input()\n",
    "    lst.append(a)\n",
    "\n",
    "sort= sorted(lst)\n",
    "\n",
    "temp=sort.pop(1)\n",
    "sort.insert(0,temp)\n",
    "print(sort)"
   ]
  },
  {
   "cell_type": "code",
   "execution_count": null,
   "id": "bf5d4d55",
   "metadata": {},
   "outputs": [],
   "source": [
    "n=int(input())\n",
    "lst=[\"Apple\",\"elephant\",\"Cat\",\"Dog\"]\n",
    "\n",
    "for i in lst:\n",
    "    \n",
    "sort= sorted(lst)\n",
    "\n",
    "temp=sort.pop(1)\n",
    "sort.insert(0,temp)\n",
    "print(sort)"
   ]
  }
 ],
 "metadata": {
  "kernelspec": {
   "display_name": "Python 3 (ipykernel)",
   "language": "python",
   "name": "python3"
  },
  "language_info": {
   "codemirror_mode": {
    "name": "ipython",
    "version": 3
   },
   "file_extension": ".py",
   "mimetype": "text/x-python",
   "name": "python",
   "nbconvert_exporter": "python",
   "pygments_lexer": "ipython3",
   "version": "3.9.12"
  }
 },
 "nbformat": 4,
 "nbformat_minor": 5
}
