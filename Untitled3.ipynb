{
 "cells": [
  {
   "cell_type": "markdown",
   "id": "17f93380",
   "metadata": {},
   "source": [
    "You are given a graph and a number x as input. Your task is to print the DFS traversal nodes of the input graph starting from node x. Complete the following function in order to give the required output.\n",
    "\n",
    "Input Format:\n",
    "\n",
    "The first line of input contains a list containing sets representing a graph. The second line of input contains the number x. \n",
    "\n",
    "Output Format:\n",
    "\n",
    "Complete the function in order to return the required output.\n",
    "\n",
    "Sample Input 0:\n",
    "\n",
    "[[1,0],[2,0],[3,0],[3,2]]\n",
    "\n",
    "3\n",
    "\n",
    "Sample Output 0:\n",
    "\n",
    "3 0 2 "
   ]
  },
  {
   "cell_type": "code",
   "execution_count": 3,
   "id": "778564ed",
   "metadata": {},
   "outputs": [
    {
     "name": "stdout",
     "output_type": "stream",
     "text": [
      "Enter the ordinate and abcissa1 0\n",
      "Enter 1 to continue adding new points to graph1\n",
      "Enter the ordinate and abcissa2 0\n",
      "Enter 1 to continue adding new points to graph1\n",
      "Enter the ordinate and abcissa3 0\n",
      "Enter 1 to continue adding new points to graph1\n",
      "Enter the ordinate and abcissa3 2\n",
      "Enter 1 to continue adding new points to graph0\n",
      "Enter the starting point for traversal3\n",
      "Following is DFS from (starting from x)\n",
      "3 "
     ]
    }
   ],
   "source": [
    "from collections import defaultdict\n",
    "\n",
    "class Graph:\n",
    " \n",
    "    # Constructor\n",
    "    def __init__(self):\n",
    " \n",
    "        # default dictionary to store graph\n",
    "        self.graph = defaultdict(list)\n",
    " \n",
    "    # function to add an edge to graph\n",
    "    def addEdge(self, u, v):\n",
    "        self.graph[u].append(v)\n",
    " \n",
    "    # A function used by DFS\n",
    "    def DFSUtil(self, v, visited):\n",
    " \n",
    "        # Mark the current node as visited\n",
    "        # and print it\n",
    "        visited.add(v)\n",
    "        print(v, end=' ')\n",
    " \n",
    "        # Recur for all the vertices\n",
    "        # adjacent to this vertex\n",
    "        for neighbour in self.graph[v]:\n",
    "            if neighbour not in visited:\n",
    "                self.DFSUtil(neighbour, visited)\n",
    " \n",
    "    # The function to do DFS traversal. It uses\n",
    "    # recursive DFSUtil()\n",
    "    def DFS(self, v):\n",
    " \n",
    "        # Create a set to store visited vertices\n",
    "        visited = set()\n",
    " \n",
    "        # Call the recursive helper function\n",
    "        # to print DFS traversal\n",
    "        self.DFSUtil(v, visited)\n",
    " \n",
    "# Driver's code\n",
    " \n",
    " \n",
    "# Create a graph given\n",
    "# in the above diagram\n",
    "if __name__ == \"__main__\":\n",
    "    g = Graph()\n",
    "    c=1\n",
    "    while(c==1):\n",
    "        edge=input(\"Enter the ordinate and abcissa\").split(\" \")\n",
    "        g.addEdge(edge[0],edge[1])\n",
    "        c=int(input(\"Enter 1 to continue adding new points to graph\"))\n",
    "    \n",
    "    x=int(input(\"Enter the starting point for traversal\"))\n",
    "    print(\"Following is DFS from (starting from x)\")\n",
    "    # Function call\n",
    "    g.DFS(x)"
   ]
  },
  {
   "cell_type": "code",
   "execution_count": null,
   "id": "92428eee",
   "metadata": {},
   "outputs": [],
   "source": []
  }
 ],
 "metadata": {
  "kernelspec": {
   "display_name": "Python 3 (ipykernel)",
   "language": "python",
   "name": "python3"
  },
  "language_info": {
   "codemirror_mode": {
    "name": "ipython",
    "version": 3
   },
   "file_extension": ".py",
   "mimetype": "text/x-python",
   "name": "python",
   "nbconvert_exporter": "python",
   "pygments_lexer": "ipython3",
   "version": "3.9.12"
  }
 },
 "nbformat": 4,
 "nbformat_minor": 5
}
